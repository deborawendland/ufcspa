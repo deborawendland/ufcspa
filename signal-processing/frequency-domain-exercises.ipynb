{
 "cells": [
  {
   "cell_type": "code",
   "execution_count": null,
   "outputs": [],
   "source": [
    "Em anexo um sinal de ECG com uma taxa amostragem de 600 pontos por segundo.\n",
    "\n",
    "Tarefas para serem executadas:\n",
    "\n",
    "a) plotar o sinal no domínio do TEMPO, ou seja, amplitude da amostra  x segundo, mostrando uma janela mínima de 5 segundos de sinal;\n",
    "b) levantar o espectro de amplitude do sinal (com a janela de 5 segundos);\n",
    "c) verificar o tipo de ruído presente no sinal;\n",
    "d) filtrar o sinal com a transformada de Fourier removendo o ruído detectado em c;\n",
    "e) plotar o sinal FILTRADO no domínio do tempo;\n",
    "f) discuta o resultado obtido.\n",
    "\n",
    "Enviar o arquivo/programa de execução da filtragem em octave ou python, juntamente com um arquivo. pdf com os comentários e resultados."
   ],
   "metadata": {
    "collapsed": false,
    "pycharm": {
     "name": "#%%\n"
    }
   }
  },
  {
   "cell_type": "code",
   "execution_count": 1,
   "outputs": [
    {
     "ename": "ImportError",
     "evalue": "No module named scipy.fftpack",
     "output_type": "error",
     "traceback": [
      "\u001B[0;31m\u001B[0m",
      "\u001B[0;31mImportError\u001B[0mTraceback (most recent call last)",
      "\u001B[0;32m<ipython-input-1-2bea97754b62>\u001B[0m in \u001B[0;36m<module>\u001B[0;34m()\u001B[0m\n\u001B[1;32m      1\u001B[0m \u001B[0;34m\u001B[0m\u001B[0m\n\u001B[0;32m----> 2\u001B[0;31m \u001B[0;32mfrom\u001B[0m \u001B[0mscipy\u001B[0m\u001B[0;34m.\u001B[0m\u001B[0mfftpack\u001B[0m \u001B[0;32mimport\u001B[0m \u001B[0mfft\u001B[0m\u001B[0;34m\u001B[0m\u001B[0m\n\u001B[0m\u001B[1;32m      3\u001B[0m \u001B[0;32mimport\u001B[0m \u001B[0mstring\u001B[0m\u001B[0;34m\u001B[0m\u001B[0m\n\u001B[1;32m      4\u001B[0m \u001B[0;32mimport\u001B[0m \u001B[0mpandas\u001B[0m \u001B[0;32mas\u001B[0m \u001B[0mpd\u001B[0m\u001B[0;34m\u001B[0m\u001B[0m\n\u001B[1;32m      5\u001B[0m \u001B[0;32mimport\u001B[0m \u001B[0mnumpy\u001B[0m \u001B[0;32mas\u001B[0m \u001B[0mnp\u001B[0m\u001B[0;34m\u001B[0m\u001B[0m\n",
      "\u001B[0;31mImportError\u001B[0m: No module named scipy.fftpack"
     ]
    }
   ],
   "source": [
    "from scipy.fftpack import fft \n",
    "import string\n",
    "import pandas as pd\n",
    "import numpy as np\n",
    "\n",
    "def read_lines(file):\n",
    "  line = []\n",
    "  temp_file = open(\"/content/signal.txt\", \"a\")\n",
    "  for char in file.read():\n",
    "    if char != \" \":\n",
    "      line.append(char)\n",
    "    else:\n",
    "      temp_file.write(''.join(map(str, line)))\n",
    "  temp_file.close\n",
    "\n",
    "file = open(\"/content/ECG.txt\", \"r\")\n",
    "read_lines(file)\n",
    "signal = open(\"/content/signal.txt\", \"r\")\n",
    "print (signal)"
   ],
   "metadata": {
    "collapsed": false,
    "pycharm": {
     "name": "#%%\n"
    }
   }
  },
  {
   "cell_type": "code",
   "execution_count": null,
   "outputs": [],
   "source": [
    "print(\"a) plotar o sinal no domínio do TEMPO, ou seja, amplitude da amostra  x segundo, mostrando uma janela mínima de 5 segundos de sinal;\")"
   ],
   "metadata": {
    "collapsed": false,
    "pycharm": {
     "name": "#%%\n"
    }
   }
  }
 ],
 "metadata": {
  "kernelspec": {
   "name": "python2",
   "language": "python",
   "display_name": "Python 2"
  },
  "language_info": {
   "codemirror_mode": {
    "name": "ipython",
    "version": 2
   },
   "file_extension": ".py",
   "mimetype": "text/x-python",
   "name": "python",
   "nbconvert_exporter": "python",
   "pygments_lexer": "ipython2",
   "version": "2.7.6"
  }
 },
 "nbformat": 4,
 "nbformat_minor": 0
}